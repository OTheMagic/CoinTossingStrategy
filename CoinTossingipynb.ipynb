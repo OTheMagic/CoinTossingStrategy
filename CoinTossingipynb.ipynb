{
  "nbformat": 4,
  "nbformat_minor": 0,
  "metadata": {
    "colab": {
      "provenance": [],
      "include_colab_link": true
    },
    "kernelspec": {
      "name": "python3",
      "display_name": "Python 3"
    },
    "language_info": {
      "name": "python"
    }
  },
  "cells": [
    {
      "cell_type": "markdown",
      "metadata": {
        "id": "view-in-github",
        "colab_type": "text"
      },
      "source": [
        "<a href=\"https://colab.research.google.com/github/OTheMagic/CoinTossingStrategy/blob/main/CoinTossingipynb.ipynb\" target=\"_parent\"><img src=\"https://colab.research.google.com/assets/colab-badge.svg\" alt=\"Open In Colab\"/></a>"
      ]
    },
    {
      "cell_type": "code",
      "execution_count": 2,
      "metadata": {
        "id": "S3CLfQWpZoEo"
      },
      "outputs": [],
      "source": [
        "from itertools import product\n",
        "import numpy as np"
      ]
    },
    {
      "cell_type": "code",
      "source": [
        "allPossibleOutcomes = list(product(range(2), repeat = 6))\n",
        "allPossibleOutcomes[:5]"
      ],
      "metadata": {
        "id": "DJAvXuLRaunE",
        "colab": {
          "base_uri": "https://localhost:8080/"
        },
        "outputId": "e4e40fd6-deba-4b63-81dd-e513813c1566"
      },
      "execution_count": 3,
      "outputs": [
        {
          "output_type": "execute_result",
          "data": {
            "text/plain": [
              "[(0, 0, 0, 0, 0, 0),\n",
              " (0, 0, 0, 0, 0, 1),\n",
              " (0, 0, 0, 0, 1, 0),\n",
              " (0, 0, 0, 0, 1, 1),\n",
              " (0, 0, 0, 1, 0, 0)]"
            ]
          },
          "metadata": {},
          "execution_count": 3
        }
      ]
    },
    {
      "cell_type": "code",
      "source": [
        "allPossibleOutcomes[1][1] == allPossibleOutcomes[1][2]"
      ],
      "metadata": {
        "colab": {
          "base_uri": "https://localhost:8080/"
        },
        "id": "u0mheX13eieu",
        "outputId": "5f06895d-7b1c-4326-b192-5f99f758abc0"
      },
      "execution_count": null,
      "outputs": [
        {
          "output_type": "execute_result",
          "data": {
            "text/plain": [
              "True"
            ]
          },
          "metadata": {},
          "execution_count": 21
        }
      ]
    },
    {
      "cell_type": "code",
      "source": [
        "# Case: n=6, 4 conditions\n",
        "totalWin = 0\n",
        "for i in allPossibleOutcomes:\n",
        "\n",
        "  A = None\n",
        "  B = None\n",
        "\n",
        "  if i[0] == i[2]:\n",
        "    if i[0] == 0:\n",
        "      A = i[1]\n",
        "    else:\n",
        "      A = i[5]\n",
        "  else:\n",
        "      A = i[3]\n",
        "\n",
        "  if i[1] == i[3]:\n",
        "    if i[1] == 0:\n",
        "      B = i[0]\n",
        "    else:\n",
        "      B = i[4]\n",
        "  else:\n",
        "      B = i[2]\n",
        "\n",
        "  if A == B:\n",
        "    totalWin += 1\n",
        "\n",
        "totalWin/64\n"
      ],
      "metadata": {
        "colab": {
          "base_uri": "https://localhost:8080/"
        },
        "id": "9ibtgH_Obox_",
        "outputId": "a251bb79-29df-418c-ec7a-5f5917cbe76e"
      },
      "execution_count": 4,
      "outputs": [
        {
          "output_type": "execute_result",
          "data": {
            "text/plain": [
              "0.53125"
            ]
          },
          "metadata": {},
          "execution_count": 4
        }
      ]
    },
    {
      "cell_type": "code",
      "source": [
        "# Case: n=6, 3 conditions\n",
        "\n",
        "totalWin = 0\n",
        "for i in allPossibleOutcomes:\n",
        "\n",
        "  A = None\n",
        "  B = None\n",
        "\n",
        "  if i[0] == i[2]:\n",
        "    if i[0] == 0:\n",
        "      A = i[1]\n",
        "    else:\n",
        "      A = i[5]\n",
        "  else:\n",
        "    if i[0] == 0:\n",
        "      A = i[3]\n",
        "    else:\n",
        "      A = i[5]\n",
        "\n",
        "  if i[1] == i[3]:\n",
        "    if i[1] == 0:\n",
        "      B = i[0]\n",
        "    else:\n",
        "      B = i[4]\n",
        "  else:\n",
        "    if i[1] == 0:\n",
        "      B = i[2]\n",
        "    else:\n",
        "      B = i[4]\n",
        "\n",
        "  if A == B:\n",
        "    totalWin += 1\n",
        "\n",
        "totalWin/64\n"
      ],
      "metadata": {
        "colab": {
          "base_uri": "https://localhost:8080/"
        },
        "id": "NDcQsNe_gCsa",
        "outputId": "6036e280-fc10-4cd6-898e-db8809954a57"
      },
      "execution_count": null,
      "outputs": [
        {
          "output_type": "execute_result",
          "data": {
            "text/plain": [
              "0.625"
            ]
          },
          "metadata": {},
          "execution_count": 24
        }
      ]
    },
    {
      "cell_type": "code",
      "source": [
        "# Case: n=6, old condition as n=4\n",
        "\n",
        "totalWin = 0\n",
        "for i in allPossibleOutcomes:\n",
        "\n",
        "  A = None\n",
        "  B = None\n",
        "\n",
        "  if i[0] == 0:\n",
        "      A = i[1] # For A=i[3], the success probability changes to 0.5.\n",
        "  else:\n",
        "      A = i[3] # For A=i[5], the success probability remains unchanged.\n",
        "\n",
        "\n",
        "  if i[1] == 0:\n",
        "      B = i[0]\n",
        "  else:\n",
        "      B = i[4] # For B=i[2], the success probability remains unchanged.\n",
        "\n",
        "  if A == B:\n",
        "    totalWin += 1\n",
        "\n",
        "totalWin/64"
      ],
      "metadata": {
        "colab": {
          "base_uri": "https://localhost:8080/"
        },
        "id": "hL60QJvilQt0",
        "outputId": "bba85a54-b56a-4e89-f909-e7780526a151"
      },
      "execution_count": null,
      "outputs": [
        {
          "output_type": "execute_result",
          "data": {
            "text/plain": [
              "0.625"
            ]
          },
          "metadata": {},
          "execution_count": 25
        }
      ]
    },
    {
      "cell_type": "code",
      "source": [
        "n8allOutcomes = list(product(range(2), repeat = 8))"
      ],
      "metadata": {
        "id": "GnEscqrNmslc"
      },
      "execution_count": 5,
      "outputs": []
    },
    {
      "cell_type": "code",
      "source": [
        "n6allOutcomes = list(product(range(2), repeat = 6))"
      ],
      "metadata": {
        "id": "ldd43eqm27vo"
      },
      "execution_count": 6,
      "outputs": []
    },
    {
      "cell_type": "code",
      "source": [
        "# Case: n=6, modefied version of condition for n=4\n",
        "\n",
        "totalWin = 0\n",
        "for i in n6allOutcomes:\n",
        "\n",
        "  A = None\n",
        "  B = None\n",
        "\n",
        "  if i[0] == 0:\n",
        "      A = i[1]\n",
        "  else:\n",
        "    if i[4]==0:\n",
        "       A = i[3]\n",
        "    else:\n",
        "       A=i[5]\n",
        "\n",
        "\n",
        "  if i[1] == 0:\n",
        "      B = i[0]\n",
        "  else:\n",
        "    if i[3]==0:\n",
        "      B = i[4]\n",
        "    else:\n",
        "      B = i[4]\n",
        "\n",
        "  if A == B:\n",
        "    totalWin += 1\n",
        "\n",
        "totalWin/(2**6)"
      ],
      "metadata": {
        "colab": {
          "base_uri": "https://localhost:8080/"
        },
        "id": "RET92btim2Nc",
        "outputId": "9140c21e-bef3-477c-f99c-fcb448034aba"
      },
      "execution_count": null,
      "outputs": [
        {
          "output_type": "execute_result",
          "data": {
            "text/plain": [
              "0.625"
            ]
          },
          "metadata": {},
          "execution_count": 69
        }
      ]
    },
    {
      "cell_type": "code",
      "source": [
        "# Main Function achieving 2/3 success rate as n approaches infinity\n",
        "from itertools import product\n",
        "import numpy as np\n",
        "def coinTossingWinProb(n):\n",
        "  possibleOutcomes = list(product(range(2), repeat = n))\n",
        "  totalWin = 0\n",
        "\n",
        "  groupNumber = int(n/2)\n",
        "  for i in possibleOutcomes:\n",
        "    A = None\n",
        "    B = None\n",
        "\n",
        "    k = 0\n",
        "    while k < groupNumber:\n",
        "      if i[2*k] == 0:\n",
        "        A = i[2*k+1]\n",
        "        break\n",
        "      else:\n",
        "        k += 1\n",
        "\n",
        "    if k == groupNumber:\n",
        "      A = i[-1]\n",
        "\n",
        "    j = 0\n",
        "    while j < groupNumber:\n",
        "      if i[2*j+1] == 0:\n",
        "        B = i[2*j]\n",
        "        break\n",
        "      else:\n",
        "        j += 1\n",
        "\n",
        "    if j == groupNumber:\n",
        "      B = i[-2]\n",
        "\n",
        "    if A == B:\n",
        "      totalWin += 1\n",
        "\n",
        "  return totalWin/2**n"
      ],
      "metadata": {
        "id": "joJzM-7RqzwM"
      },
      "execution_count": 17,
      "outputs": []
    },
    {
      "cell_type": "code",
      "source": [
        "coinTossingWinProb(24)"
      ],
      "metadata": {
        "colab": {
          "base_uri": "https://localhost:8080/"
        },
        "id": "BG9wOKXIuRKQ",
        "outputId": "bbc42480-cffe-4012-ac7e-d844680c1d41"
      },
      "execution_count": null,
      "outputs": [
        {
          "output_type": "execute_result",
          "data": {
            "text/plain": [
              "0.6666666269302368"
            ]
          },
          "metadata": {},
          "execution_count": 6
        }
      ]
    }
  ]
}